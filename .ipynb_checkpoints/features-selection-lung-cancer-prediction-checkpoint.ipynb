{
 "cells": [
  {
   "cell_type": "markdown",
   "metadata": {
    "papermill": {
     "duration": 0.025637,
     "end_time": "2020-08-22T05:11:20.203087",
     "exception": false,
     "start_time": "2020-08-22T05:11:20.177450",
     "status": "completed"
    },
    "tags": []
   },
   "source": []
  },
  {
   "cell_type": "markdown",
   "metadata": {
    "papermill": {
     "duration": 0.020039,
     "end_time": "2020-08-22T05:11:20.243917",
     "exception": false,
     "start_time": "2020-08-22T05:11:20.223878",
     "status": "completed"
    },
    "tags": []
   },
   "source": []
  },
  {
   "cell_type": "markdown",
   "metadata": {
    "papermill": {
     "duration": 0.019539,
     "end_time": "2020-08-22T05:11:20.283517",
     "exception": false,
     "start_time": "2020-08-22T05:11:20.263978",
     "status": "completed"
    },
    "tags": []
   },
   "source": [
    "In this study, we tried to predict Lung Cancer  using 4 different algorithm:\n",
    "1. Logistic regression classification\n",
    "2. SVM (Support Vector Machine) classification\n",
    "3. Decision tree classification\n",
    "4. K-Nearest Neighbor classification\n",
    "\n",
    "Predictor variable use in classifying lung cancer:\n",
    "1. Age      \n",
    "2. Smokes  \n",
    "3. AreaQ    \n",
    "4. Alkhol\n",
    "\n",
    "\n"
   ]
  },
  {
   "cell_type": "markdown",
   "metadata": {
    "papermill": {
     "duration": 0.019741,
     "end_time": "2020-08-22T05:11:20.323416",
     "exception": false,
     "start_time": "2020-08-22T05:11:20.303675",
     "status": "completed"
    },
    "tags": []
   },
   "source": [
    "Import Library"
   ]
  },
  {
   "cell_type": "code",
   "execution_count": 1,
   "metadata": {
    "_cell_guid": "b1076dfc-b9ad-4769-8c92-a6c4dae69d19",
    "_uuid": "8f2839f25d086af736a60e9eeb907d3b93b6e0e5",
    "execution": {
     "iopub.execute_input": "2020-08-22T05:11:20.370520Z",
     "iopub.status.busy": "2020-08-22T05:11:20.369770Z",
     "iopub.status.idle": "2020-08-22T05:11:21.643621Z",
     "shell.execute_reply": "2020-08-22T05:11:21.642845Z"
    },
    "papermill": {
     "duration": 1.300473,
     "end_time": "2020-08-22T05:11:21.643778",
     "exception": false,
     "start_time": "2020-08-22T05:11:20.343305",
     "status": "completed"
    },
    "tags": []
   },
   "outputs": [],
   "source": [
    "import numpy as np \n",
    "import pandas as pd \n",
    "import matplotlib.pyplot as plt\n",
    "import seaborn as sns\n",
    "\n",
    "from sklearn import preprocessing\n",
    "from sklearn.preprocessing import MinMaxScaler"
   ]
  },
  {
   "cell_type": "markdown",
   "metadata": {
    "papermill": {
     "duration": 0.019799,
     "end_time": "2020-08-22T05:11:21.685932",
     "exception": false,
     "start_time": "2020-08-22T05:11:21.666133",
     "status": "completed"
    },
    "tags": []
   },
   "source": [
    "## Data\n",
    "\n"
   ]
  },
  {
   "cell_type": "code",
   "execution_count": 2,
   "metadata": {
    "execution": {
     "iopub.execute_input": "2020-08-22T05:11:21.739186Z",
     "iopub.status.busy": "2020-08-22T05:11:21.738396Z",
     "iopub.status.idle": "2020-08-22T05:11:21.790729Z",
     "shell.execute_reply": "2020-08-22T05:11:21.790034Z"
    },
    "papermill": {
     "duration": 0.084861,
     "end_time": "2020-08-22T05:11:21.790863",
     "exception": false,
     "start_time": "2020-08-22T05:11:21.706002",
     "status": "completed"
    },
    "tags": []
   },
   "outputs": [
    {
     "name": "stdout",
     "output_type": "stream",
     "text": [
      "Dataset : (59, 7)\n",
      "<class 'pandas.core.frame.DataFrame'>\n",
      "RangeIndex: 59 entries, 0 to 58\n",
      "Data columns (total 7 columns):\n",
      " #   Column   Non-Null Count  Dtype \n",
      "---  ------   --------------  ----- \n",
      " 0   Name     59 non-null     object\n",
      " 1   Surname  59 non-null     object\n",
      " 2   Age      59 non-null     int64 \n",
      " 3   Smokes   59 non-null     int64 \n",
      " 4   AreaQ    59 non-null     int64 \n",
      " 5   Alkhol   59 non-null     int64 \n",
      " 6   Result   59 non-null     int64 \n",
      "dtypes: int64(5), object(2)\n",
      "memory usage: 3.4+ KB\n"
     ]
    },
    {
     "data": {
      "text/html": [
       "<div>\n",
       "<style scoped>\n",
       "    .dataframe tbody tr th:only-of-type {\n",
       "        vertical-align: middle;\n",
       "    }\n",
       "\n",
       "    .dataframe tbody tr th {\n",
       "        vertical-align: top;\n",
       "    }\n",
       "\n",
       "    .dataframe thead th {\n",
       "        text-align: right;\n",
       "    }\n",
       "</style>\n",
       "<table border=\"1\" class=\"dataframe\">\n",
       "  <thead>\n",
       "    <tr style=\"text-align: right;\">\n",
       "      <th></th>\n",
       "      <th>Name</th>\n",
       "      <th>Surname</th>\n",
       "      <th>Age</th>\n",
       "      <th>Smokes</th>\n",
       "      <th>AreaQ</th>\n",
       "      <th>Alkhol</th>\n",
       "      <th>Result</th>\n",
       "    </tr>\n",
       "  </thead>\n",
       "  <tbody>\n",
       "    <tr>\n",
       "      <th>0</th>\n",
       "      <td>Khademul</td>\n",
       "      <td>Wick</td>\n",
       "      <td>35</td>\n",
       "      <td>3</td>\n",
       "      <td>5</td>\n",
       "      <td>4</td>\n",
       "      <td>1</td>\n",
       "    </tr>\n",
       "    <tr>\n",
       "      <th>1</th>\n",
       "      <td>John</td>\n",
       "      <td>Constantine</td>\n",
       "      <td>27</td>\n",
       "      <td>20</td>\n",
       "      <td>2</td>\n",
       "      <td>5</td>\n",
       "      <td>1</td>\n",
       "    </tr>\n",
       "    <tr>\n",
       "      <th>2</th>\n",
       "      <td>Camela</td>\n",
       "      <td>Anderson</td>\n",
       "      <td>30</td>\n",
       "      <td>0</td>\n",
       "      <td>5</td>\n",
       "      <td>2</td>\n",
       "      <td>0</td>\n",
       "    </tr>\n",
       "    <tr>\n",
       "      <th>3</th>\n",
       "      <td>Alex</td>\n",
       "      <td>Telles</td>\n",
       "      <td>28</td>\n",
       "      <td>0</td>\n",
       "      <td>8</td>\n",
       "      <td>1</td>\n",
       "      <td>0</td>\n",
       "    </tr>\n",
       "    <tr>\n",
       "      <th>4</th>\n",
       "      <td>Diego</td>\n",
       "      <td>Maradona</td>\n",
       "      <td>68</td>\n",
       "      <td>4</td>\n",
       "      <td>5</td>\n",
       "      <td>6</td>\n",
       "      <td>1</td>\n",
       "    </tr>\n",
       "    <tr>\n",
       "      <th>5</th>\n",
       "      <td>Cristiano</td>\n",
       "      <td>Ronaldo</td>\n",
       "      <td>34</td>\n",
       "      <td>0</td>\n",
       "      <td>10</td>\n",
       "      <td>0</td>\n",
       "      <td>0</td>\n",
       "    </tr>\n",
       "    <tr>\n",
       "      <th>6</th>\n",
       "      <td>Mihail</td>\n",
       "      <td>Tal</td>\n",
       "      <td>58</td>\n",
       "      <td>15</td>\n",
       "      <td>10</td>\n",
       "      <td>0</td>\n",
       "      <td>0</td>\n",
       "    </tr>\n",
       "    <tr>\n",
       "      <th>7</th>\n",
       "      <td>Kathy</td>\n",
       "      <td>Bates</td>\n",
       "      <td>22</td>\n",
       "      <td>12</td>\n",
       "      <td>5</td>\n",
       "      <td>2</td>\n",
       "      <td>0</td>\n",
       "    </tr>\n",
       "    <tr>\n",
       "      <th>8</th>\n",
       "      <td>Nicole</td>\n",
       "      <td>Kidman</td>\n",
       "      <td>45</td>\n",
       "      <td>2</td>\n",
       "      <td>6</td>\n",
       "      <td>0</td>\n",
       "      <td>0</td>\n",
       "    </tr>\n",
       "    <tr>\n",
       "      <th>9</th>\n",
       "      <td>Ray</td>\n",
       "      <td>Milland</td>\n",
       "      <td>52</td>\n",
       "      <td>18</td>\n",
       "      <td>4</td>\n",
       "      <td>5</td>\n",
       "      <td>1</td>\n",
       "    </tr>\n",
       "  </tbody>\n",
       "</table>\n",
       "</div>"
      ],
      "text/plain": [
       "        Name      Surname  Age  Smokes  AreaQ  Alkhol  Result\n",
       "0   Khademul         Wick   35       3      5       4       1\n",
       "1       John  Constantine   27      20      2       5       1\n",
       "2     Camela     Anderson   30       0      5       2       0\n",
       "3       Alex       Telles   28       0      8       1       0\n",
       "4      Diego     Maradona   68       4      5       6       1\n",
       "5  Cristiano      Ronaldo   34       0     10       0       0\n",
       "6     Mihail          Tal   58      15     10       0       0\n",
       "7      Kathy        Bates   22      12      5       2       0\n",
       "8     Nicole       Kidman   45       2      6       0       0\n",
       "9        Ray      Milland   52      18      4       5       1"
      ]
     },
     "execution_count": 2,
     "metadata": {},
     "output_type": "execute_result"
    }
   ],
   "source": [
    "data = pd.read_csv('lung_cancer_examples.csv')\n",
    "print('Dataset :',data.shape)\n",
    "data.info()\n",
    "data[0:10]"
   ]
  },
  {
   "cell_type": "code",
   "execution_count": 3,
   "metadata": {
    "execution": {
     "iopub.execute_input": "2020-08-22T05:11:21.840432Z",
     "iopub.status.busy": "2020-08-22T05:11:21.839468Z",
     "iopub.status.idle": "2020-08-22T05:11:22.049510Z",
     "shell.execute_reply": "2020-08-22T05:11:22.048746Z"
    },
    "papermill": {
     "duration": 0.237686,
     "end_time": "2020-08-22T05:11:22.049657",
     "exception": false,
     "start_time": "2020-08-22T05:11:21.811971",
     "status": "completed"
    },
    "tags": []
   },
   "outputs": [
    {
     "data": {
      "image/png": "[encoded data removed]",
      "text/plain": [
       "<Figure size 432x288 with 1 Axes>"
      ]
     },
     "metadata": {
      "needs_background": "light"
     },
     "output_type": "display_data"
    }
   ],
   "source": [
    "# Distribution of diagnosis\n",
    "data.Result.value_counts()[0:30].plot(kind='bar')\n",
    "plt.show()"
   ]
  },
  {
   "cell_type": "markdown",
   "metadata": {
    "papermill": {
     "duration": 0.020604,
     "end_time": "2020-08-22T05:11:22.091217",
     "exception": false,
     "start_time": "2020-08-22T05:11:22.070613",
     "status": "completed"
    },
    "tags": []
   },
   "source": [
    "**VISUALIZING THE DATA\n",
    "**"
   ]
  },
  {
   "cell_type": "code",
   "execution_count": 4,
   "metadata": {
    "execution": {
     "iopub.execute_input": "2020-08-22T05:11:22.140450Z",
     "iopub.status.busy": "2020-08-22T05:11:22.139461Z",
     "iopub.status.idle": "2020-08-22T05:11:29.524959Z",
     "shell.execute_reply": "2020-08-22T05:11:29.525560Z"
    },
    "papermill": {
     "duration": 7.413603,
     "end_time": "2020-08-22T05:11:29.525729",
     "exception": false,
     "start_time": "2020-08-22T05:11:22.112126",
     "status": "completed"
    },
    "tags": []
   },
   "outputs": [
    {
     "name": "stderr",
     "output_type": "stream",
     "text": [
      "C:\\Users\\MD.KHADEMUL ISLAM\\anaconda3\\lib\\site-packages\\seaborn\\axisgrid.py:1912: UserWarning: The `size` parameter has been renamed to `height`; please update your code.\n",
      "  warnings.warn(msg, UserWarning)\n"
     ]
    },
    {
     "data": {
      "image/png": "[encoded data removed]",
      "text/plain": [
       "<Figure size 905.625x864 with 20 Axes>"
      ]
     },
     "metadata": {},
     "output_type": "display_data"
    }
   ],
   "source": [
    "sns.set_style(\"whitegrid\")\n",
    "sns.pairplot(data,hue=\"Result\",size=3);\n",
    "plt.show()"
   ]
  },
  {
   "cell_type": "markdown",
   "metadata": {
    "papermill": {
     "duration": 0.021416,
     "end_time": "2020-08-22T05:11:29.569056",
     "exception": false,
     "start_time": "2020-08-22T05:11:29.547640",
     "status": "completed"
    },
    "tags": []
   },
   "source": [
    "Eliminate irrelevant variables in analysis such as name, surname"
   ]
  },
  {
   "cell_type": "code",
   "execution_count": 5,
   "metadata": {
    "execution": {
     "iopub.execute_input": "2020-08-22T05:11:29.623276Z",
     "iopub.status.busy": "2020-08-22T05:11:29.622230Z",
     "iopub.status.idle": "2020-08-22T05:11:29.626059Z",
     "shell.execute_reply": "2020-08-22T05:11:29.626915Z"
    },
    "papermill": {
     "duration": 0.03629,
     "end_time": "2020-08-22T05:11:29.627144",
     "exception": false,
     "start_time": "2020-08-22T05:11:29.590854",
     "status": "completed"
    },
    "tags": []
   },
   "outputs": [
    {
     "name": "stdout",
     "output_type": "stream",
     "text": [
      "(59, 5)\n"
     ]
    }
   ],
   "source": [
    "data1 = data.drop(columns=['Name','Surname'],\n",
    "\n",
    "                 axis=1)\n",
    "data1 = data1.dropna(how='any')\n",
    "print(data1.shape)"
   ]
  },
  {
   "cell_type": "code",
   "execution_count": 6,
   "metadata": {
    "execution": {
     "iopub.execute_input": "2020-08-22T05:11:29.684297Z",
     "iopub.status.busy": "2020-08-22T05:11:29.683492Z",
     "iopub.status.idle": "2020-08-22T05:11:29.689662Z",
     "shell.execute_reply": "2020-08-22T05:11:29.688866Z"
    },
    "papermill": {
     "duration": 0.039603,
     "end_time": "2020-08-22T05:11:29.689796",
     "exception": false,
     "start_time": "2020-08-22T05:11:29.650193",
     "status": "completed"
    },
    "tags": []
   },
   "outputs": [
    {
     "name": "stdout",
     "output_type": "stream",
     "text": [
      "(59, 5)\n"
     ]
    },
    {
     "data": {
      "text/html": [
       "<div>\n",
       "<style scoped>\n",
       "    .dataframe tbody tr th:only-of-type {\n",
       "        vertical-align: middle;\n",
       "    }\n",
       "\n",
       "    .dataframe tbody tr th {\n",
       "        vertical-align: top;\n",
       "    }\n",
       "\n",
       "    .dataframe thead th {\n",
       "        text-align: right;\n",
       "    }\n",
       "</style>\n",
       "<table border=\"1\" class=\"dataframe\">\n",
       "  <thead>\n",
       "    <tr style=\"text-align: right;\">\n",
       "      <th></th>\n",
       "      <th>Age</th>\n",
       "      <th>Smokes</th>\n",
       "      <th>AreaQ</th>\n",
       "      <th>Alkhol</th>\n",
       "      <th>Result</th>\n",
       "    </tr>\n",
       "  </thead>\n",
       "  <tbody>\n",
       "    <tr>\n",
       "      <th>0</th>\n",
       "      <td>35</td>\n",
       "      <td>3</td>\n",
       "      <td>5</td>\n",
       "      <td>4</td>\n",
       "      <td>1</td>\n",
       "    </tr>\n",
       "    <tr>\n",
       "      <th>1</th>\n",
       "      <td>27</td>\n",
       "      <td>20</td>\n",
       "      <td>2</td>\n",
       "      <td>5</td>\n",
       "      <td>1</td>\n",
       "    </tr>\n",
       "    <tr>\n",
       "      <th>2</th>\n",
       "      <td>30</td>\n",
       "      <td>0</td>\n",
       "      <td>5</td>\n",
       "      <td>2</td>\n",
       "      <td>0</td>\n",
       "    </tr>\n",
       "    <tr>\n",
       "      <th>3</th>\n",
       "      <td>28</td>\n",
       "      <td>0</td>\n",
       "      <td>8</td>\n",
       "      <td>1</td>\n",
       "      <td>0</td>\n",
       "    </tr>\n",
       "    <tr>\n",
       "      <th>4</th>\n",
       "      <td>68</td>\n",
       "      <td>4</td>\n",
       "      <td>5</td>\n",
       "      <td>6</td>\n",
       "      <td>1</td>\n",
       "    </tr>\n",
       "  </tbody>\n",
       "</table>\n",
       "</div>"
      ],
      "text/plain": [
       "   Age  Smokes  AreaQ  Alkhol  Result\n",
       "0   35       3      5       4       1\n",
       "1   27      20      2       5       1\n",
       "2   30       0      5       2       0\n",
       "3   28       0      8       1       0\n",
       "4   68       4      5       6       1"
      ]
     },
     "execution_count": 6,
     "metadata": {},
     "output_type": "execute_result"
    }
   ],
   "source": [
    "print(data1.shape)\n",
    "data1.head()"
   ]
  },
  {
   "cell_type": "markdown",
   "metadata": {
    "papermill": {
     "duration": 0.021955,
     "end_time": "2020-08-22T05:11:29.734010",
     "exception": false,
     "start_time": "2020-08-22T05:11:29.712055",
     "status": "completed"
    },
    "tags": []
   },
   "source": [
    "### Data for training and testing\n",
    "\n",
    "To select a set of training data that will be input in the Machine Learning algorithm, to ensure that the classification algorithm training can be generalized well to new data. For this study using a sample size of 10%, assumed it ideal ratio between training and testing"
   ]
  },
  {
   "cell_type": "code",
   "execution_count": 7,
   "metadata": {
    "execution": {
     "iopub.execute_input": "2020-08-22T05:11:29.785485Z",
     "iopub.status.busy": "2020-08-22T05:11:29.784713Z",
     "iopub.status.idle": "2020-08-22T05:11:29.846581Z",
     "shell.execute_reply": "2020-08-22T05:11:29.845749Z"
    },
    "papermill": {
     "duration": 0.09061,
     "end_time": "2020-08-22T05:11:29.846714",
     "exception": false,
     "start_time": "2020-08-22T05:11:29.756104",
     "status": "completed"
    },
    "tags": []
   },
   "outputs": [],
   "source": [
    "from sklearn.model_selection import train_test_split\n",
    "Y = data1['Result']\n",
    "X = data1.drop(columns=['Result'])\n",
    "X_train, X_test, Y_train, Y_test = train_test_split(X, Y, test_size=0.1, random_state=9)"
   ]
  },
  {
   "cell_type": "code",
   "execution_count": 8,
   "metadata": {
    "execution": {
     "iopub.execute_input": "2020-08-22T05:11:29.899920Z",
     "iopub.status.busy": "2020-08-22T05:11:29.899011Z",
     "iopub.status.idle": "2020-08-22T05:11:29.902910Z",
     "shell.execute_reply": "2020-08-22T05:11:29.903845Z"
    },
    "papermill": {
     "duration": 0.034868,
     "end_time": "2020-08-22T05:11:29.904070",
     "exception": false,
     "start_time": "2020-08-22T05:11:29.869202",
     "status": "completed"
    },
    "tags": []
   },
   "outputs": [
    {
     "name": "stdout",
     "output_type": "stream",
     "text": [
      "X train shape:  (53, 4)\n",
      "Y train shape:  (53,)\n",
      "X test shape:  (6, 4)\n",
      "Y test shape:  (6,)\n"
     ]
    }
   ],
   "source": [
    "print('X train shape: ', X_train.shape)\n",
    "print('Y train shape: ', Y_train.shape)\n",
    "print('X test shape: ', X_test.shape)\n",
    "print('Y test shape: ', Y_test.shape)"
   ]
  },
  {
   "cell_type": "markdown",
   "metadata": {
    "papermill": {
     "duration": 0.022308,
     "end_time": "2020-08-22T05:11:29.949462",
     "exception": false,
     "start_time": "2020-08-22T05:11:29.927154",
     "status": "completed"
    },
    "tags": []
   },
   "source": [
    "## 1. Logistic regression classification\n",
    "\n",
    "Logistic regression is a technique that can be applied to binary classification problems. This technique uses the logistic function or sigmoid function, which is an S-shaped curve that can assume any real value number and assign it to a value between 0 and 1, but never exactly in those limits. Thus, logistic regression models the probability of the default class (the probability that an input $(X)$ belongs to the default class $(Y=1)$) $(P(X)=P(Y=1|X))$. In order to make the prediction of the probability, the logistic function is used, which allows us to obtain the log-odds or the probit. Thus, the model is a linear combination of the inputs, but that this linear combination relates to the log-odds of the default class.\n",
    "\n",
    "Started from make an instance of the model setting the default values. Specify the inverse of the regularization strength in 10. Trained the logistic regression model with the training data, and then applied such model to the test data."
   ]
  },
  {
   "cell_type": "code",
   "execution_count": 9,
   "metadata": {
    "execution": {
     "iopub.execute_input": "2020-08-22T05:11:30.000888Z",
     "iopub.status.busy": "2020-08-22T05:11:30.000029Z",
     "iopub.status.idle": "2020-08-22T05:11:30.127966Z",
     "shell.execute_reply": "2020-08-22T05:11:30.127106Z"
    },
    "papermill": {
     "duration": 0.156255,
     "end_time": "2020-08-22T05:11:30.128104",
     "exception": false,
     "start_time": "2020-08-22T05:11:29.971849",
     "status": "completed"
    },
    "tags": []
   },
   "outputs": [],
   "source": [
    "from sklearn.linear_model import LogisticRegression\n",
    "\n",
    "# We defining the model\n",
    "logreg = LogisticRegression(C=10)\n",
    "\n",
    "# We train the model\n",
    "logreg.fit(X_train, Y_train)\n",
    "\n",
    "# We predict target values\n",
    "Y_predict1 = logreg.predict(X_test)"
   ]
  },
  {
   "cell_type": "code",
   "execution_count": 10,
   "metadata": {
    "execution": {
     "iopub.execute_input": "2020-08-22T05:11:30.192558Z",
     "iopub.status.busy": "2020-08-22T05:11:30.191300Z",
     "iopub.status.idle": "2020-08-22T05:11:30.427189Z",
     "shell.execute_reply": "2020-08-22T05:11:30.427751Z"
    },
    "papermill": {
     "duration": 0.276661,
     "end_time": "2020-08-22T05:11:30.427924",
     "exception": false,
     "start_time": "2020-08-22T05:11:30.151263",
     "status": "completed"
    },
    "tags": []
   },
   "outputs": [
    {
     "data": {
      "image/png": "[encoded data removed]",
      "text/plain": [
       "<Figure size 360x360 with 2 Axes>"
      ]
     },
     "metadata": {},
     "output_type": "display_data"
    }
   ],
   "source": [
    "# The confusion matrix\n",
    "from sklearn.metrics import confusion_matrix\n",
    "import seaborn as sns\n",
    "\n",
    "logreg_cm = confusion_matrix(Y_test, Y_predict1)\n",
    "f, ax = plt.subplots(figsize=(5,5))\n",
    "sns.heatmap(logreg_cm, annot=True, linewidth=0.7, linecolor='cyan', fmt='g', ax=ax, cmap=\"YlGnBu\")\n",
    "plt.title('Logistic Regression Classification Confusion Matrix')\n",
    "plt.xlabel('Y predict')\n",
    "plt.ylabel('Y test')\n",
    "plt.show()"
   ]
  },
  {
   "cell_type": "code",
   "execution_count": 11,
   "metadata": {
    "execution": {
     "iopub.execute_input": "2020-08-22T05:11:30.482521Z",
     "iopub.status.busy": "2020-08-22T05:11:30.481468Z",
     "iopub.status.idle": "2020-08-22T05:11:30.485291Z",
     "shell.execute_reply": "2020-08-22T05:11:30.485914Z"
    },
    "papermill": {
     "duration": 0.035572,
     "end_time": "2020-08-22T05:11:30.486100",
     "exception": false,
     "start_time": "2020-08-22T05:11:30.450528",
     "status": "completed"
    },
    "tags": []
   },
   "outputs": [
    {
     "name": "stdout",
     "output_type": "stream",
     "text": [
      "1.0\n"
     ]
    }
   ],
   "source": [
    "# Test score\n",
    "score_logreg = logreg.score(X_test, Y_test)\n",
    "print(score_logreg)"
   ]
  },
  {
   "cell_type": "markdown",
   "metadata": {
    "papermill": {
     "duration": 0.022768,
     "end_time": "2020-08-22T05:11:30.531702",
     "exception": false,
     "start_time": "2020-08-22T05:11:30.508934",
     "status": "completed"
    },
    "tags": []
   },
   "source": [
    "## 2. SVM (Support Vector Machine) classification\n",
    "\n",
    "SVMs (Support Vector Machine) have shown a rapid proliferation during the last years. The learning problem setting for SVMs corresponds to a some unknown and nonlinear dependency (mapping, function) $y = f(x)$ between some high-dimensional input vector $x$ and scalar output $y$. It is noteworthy that there is no information on the joint probability functions, therefore, a free distribution learning must be carried out. The only information available is a training data set $D = {(x_i, y_i) ∈ X×Y }, i = 1$, $l$, where $l$ stands for the number of the training data pairs and is therefore equal to the size of the training data set $D$, additionally, $y_i$ is denoted as $d_i$, where $d$ stands for a desired (target) value. Hence, SVMs belong to the supervised learning techniques.\n",
    "\n",
    "From the classification approach, the goal of SVM is to find a hyperplane in an N-dimensional space that clearly classifies the data points. Thus hyperplanes are decision boundaries that help classify the data points. Data points falling on either side of the hyperplane can be attributed to different classes.\n",
    "\n",
    "\n",
    "\n"
   ]
  },
  {
   "cell_type": "code",
   "execution_count": 12,
   "metadata": {
    "execution": {
     "iopub.execute_input": "2020-08-22T05:11:30.585911Z",
     "iopub.status.busy": "2020-08-22T05:11:30.584960Z",
     "iopub.status.idle": "2020-08-22T05:11:32.812022Z",
     "shell.execute_reply": "2020-08-22T05:11:32.810955Z"
    },
    "papermill": {
     "duration": 2.257475,
     "end_time": "2020-08-22T05:11:32.812162",
     "exception": false,
     "start_time": "2020-08-22T05:11:30.554687",
     "status": "completed"
    },
    "tags": []
   },
   "outputs": [],
   "source": [
    "from sklearn.ensemble import BaggingClassifier\n",
    "from sklearn.multiclass import OneVsRestClassifier\n",
    "from sklearn.svm import SVC\n",
    "\n",
    "# We define the SVM model\n",
    "svmcla = OneVsRestClassifier(BaggingClassifier(SVC(C=10,kernel='rbf',random_state=9, probability=True), \n",
    "                                               n_jobs=-1))\n",
    "\n",
    "# We train model\n",
    "svmcla.fit(X_train, Y_train)\n",
    "\n",
    "# We predict target values\n",
    "Y_predict2 = svmcla.predict(X_test)"
   ]
  },
  {
   "cell_type": "code",
   "execution_count": 13,
   "metadata": {
    "execution": {
     "iopub.execute_input": "2020-08-22T05:11:32.878085Z",
     "iopub.status.busy": "2020-08-22T05:11:32.876043Z",
     "iopub.status.idle": "2020-08-22T05:11:33.121748Z",
     "shell.execute_reply": "2020-08-22T05:11:33.120967Z"
    },
    "papermill": {
     "duration": 0.286585,
     "end_time": "2020-08-22T05:11:33.121881",
     "exception": false,
     "start_time": "2020-08-22T05:11:32.835296",
     "status": "completed"
    },
    "tags": []
   },
   "outputs": [
    {
     "data": {
      "image/png": "[encoded data removed]",
      "text/plain": [
       "<Figure size 360x360 with 2 Axes>"
      ]
     },
     "metadata": {},
     "output_type": "display_data"
    }
   ],
   "source": [
    "# The confusion matrix\n",
    "svmcla_cm = confusion_matrix(Y_test, Y_predict2)\n",
    "f, ax = plt.subplots(figsize=(5,5))\n",
    "sns.heatmap(svmcla_cm, annot=True, linewidth=0.7, linecolor='cyan', fmt='g', ax=ax, cmap=\"YlGnBu\")\n",
    "plt.title('SVM Classification Confusion Matrix')\n",
    "plt.xlabel('Y predict')\n",
    "plt.ylabel('Y test')\n",
    "plt.show()"
   ]
  },
  {
   "cell_type": "code",
   "execution_count": 14,
   "metadata": {
    "execution": {
     "iopub.execute_input": "2020-08-22T05:11:33.176651Z",
     "iopub.status.busy": "2020-08-22T05:11:33.175849Z",
     "iopub.status.idle": "2020-08-22T05:11:33.196595Z",
     "shell.execute_reply": "2020-08-22T05:11:33.195611Z"
    },
    "papermill": {
     "duration": 0.051866,
     "end_time": "2020-08-22T05:11:33.196766",
     "exception": false,
     "start_time": "2020-08-22T05:11:33.144900",
     "status": "completed"
    },
    "tags": []
   },
   "outputs": [
    {
     "name": "stdout",
     "output_type": "stream",
     "text": [
      "1.0\n"
     ]
    }
   ],
   "source": [
    "# Test score\n",
    "score_svmcla = svmcla.score(X_test, Y_test)\n",
    "print(score_svmcla)"
   ]
  },
  {
   "cell_type": "markdown",
   "metadata": {
    "papermill": {
     "duration": 0.022511,
     "end_time": "2020-08-22T05:11:33.243011",
     "exception": false,
     "start_time": "2020-08-22T05:11:33.220500",
     "status": "completed"
    },
    "tags": []
   },
   "source": []
  },
  {
   "cell_type": "code",
   "execution_count": 15,
   "metadata": {
    "execution": {
     "iopub.execute_input": "2020-08-22T05:11:33.295324Z",
     "iopub.status.busy": "2020-08-22T05:11:33.294571Z",
     "iopub.status.idle": "2020-08-22T05:11:33.306876Z",
     "shell.execute_reply": "2020-08-22T05:11:33.306122Z"
    },
    "papermill": {
     "duration": 0.041244,
     "end_time": "2020-08-22T05:11:33.307005",
     "exception": false,
     "start_time": "2020-08-22T05:11:33.265761",
     "status": "completed"
    },
    "tags": []
   },
   "outputs": [],
   "source": [
    "\n"
   ]
  },
  {
   "cell_type": "code",
   "execution_count": 16,
   "metadata": {
    "execution": {
     "iopub.execute_input": "2020-08-22T05:11:33.507377Z",
     "iopub.status.busy": "2020-08-22T05:11:33.502269Z",
     "iopub.status.idle": "2020-08-22T05:11:33.736148Z",
     "shell.execute_reply": "2020-08-22T05:11:33.735523Z"
    },
    "papermill": {
     "duration": 0.406265,
     "end_time": "2020-08-22T05:11:33.736281",
     "exception": false,
     "start_time": "2020-08-22T05:11:33.330016",
     "status": "completed"
    },
    "tags": []
   },
   "outputs": [
    {
     "data": {
      "image/png": "[encoded data removed]",
      "text/plain": [
       "<Figure size 360x360 with 2 Axes>"
      ]
     },
     "metadata": {},
     "output_type": "display_data"
    }
   ],
   "source": [
    "# The confusion matrix\n",
    "nbcla_cm = confusion_matrix(Y_test, Y_predict3)\n",
    "f, ax = plt.subplots(figsize=(5,5))\n",
    "sns.heatmap(nbcla_cm, annot=True, linewidth=0.7, linecolor='cyan', fmt='g', ax=ax, cmap=\"YlGnBu\")\n",
    "plt.title('Naive Bayes Classification Confusion Matrix')\n",
    "plt.xlabel('Y predict')\n",
    "plt.ylabel('Y test')\n",
    "plt.show()"
   ]
  },
  {
   "cell_type": "code",
   "execution_count": 17,
   "metadata": {
    "execution": {
     "iopub.execute_input": "2020-08-22T05:11:33.792054Z",
     "iopub.status.busy": "2020-08-22T05:11:33.791080Z",
     "iopub.status.idle": "2020-08-22T05:11:33.795148Z",
     "shell.execute_reply": "2020-08-22T05:11:33.795769Z"
    },
    "papermill": {
     "duration": 0.036566,
     "end_time": "2020-08-22T05:11:33.795939",
     "exception": false,
     "start_time": "2020-08-22T05:11:33.759373",
     "status": "completed"
    },
    "tags": []
   },
   "outputs": [
    {
     "name": "stdout",
     "output_type": "stream",
     "text": [
      "1.0\n"
     ]
    }
   ],
   "source": [
    "# Test score\n",
    "score_nbcla = nbcla.score(X_test, Y_test)\n",
    "print(score_nbcla)"
   ]
  },
  {
   "cell_type": "markdown",
   "metadata": {
    "papermill": {
     "duration": 0.022892,
     "end_time": "2020-08-22T05:11:33.842039",
     "exception": false,
     "start_time": "2020-08-22T05:11:33.819147",
     "status": "completed"
    },
    "tags": []
   },
   "source": [
    "## 4. Decision tree classification\n",
    "\n",
    "A decision tree is a flowchart-like tree structure where an internal node represents feature, the branch represents a decision rule, and each leaf node represents the outcome. The decision tree analyzes a set of data to construct a set of rules or questions, which are used to predict a class, i.e., the goal of decision tree is to create a model that predicts the value of a target variable by learning simple decision rules inferred from the data features. In this sense the decision tree selects the best attribute using to divide the records, converting that attribute into a decision node and dividing the data set into smaller subsets, to finally start the construction of the tree repeating this process recursively. "
   ]
  },
  {
   "cell_type": "code",
   "execution_count": 18,
   "metadata": {
    "execution": {
     "iopub.execute_input": "2020-08-22T05:11:33.898662Z",
     "iopub.status.busy": "2020-08-22T05:11:33.897693Z",
     "iopub.status.idle": "2020-08-22T05:11:33.905716Z",
     "shell.execute_reply": "2020-08-22T05:11:33.905081Z"
    },
    "papermill": {
     "duration": 0.040551,
     "end_time": "2020-08-22T05:11:33.905859",
     "exception": false,
     "start_time": "2020-08-22T05:11:33.865308",
     "status": "completed"
    },
    "tags": []
   },
   "outputs": [],
   "source": [
    "from sklearn.tree import DecisionTreeClassifier\n",
    "\n",
    "# We define the model\n",
    "dtcla = DecisionTreeClassifier(random_state=9)\n",
    "\n",
    "# We train model\n",
    "dtcla.fit(X_train, Y_train)\n",
    "\n",
    "# We predict target values\n",
    "Y_predict4 = dtcla.predict(X_test)"
   ]
  },
  {
   "cell_type": "code",
   "execution_count": 19,
   "metadata": {
    "execution": {
     "iopub.execute_input": "2020-08-22T05:11:33.968697Z",
     "iopub.status.busy": "2020-08-22T05:11:33.967846Z",
     "iopub.status.idle": "2020-08-22T05:11:34.202847Z",
     "shell.execute_reply": "2020-08-22T05:11:34.202037Z"
    },
    "papermill": {
     "duration": 0.273501,
     "end_time": "2020-08-22T05:11:34.202975",
     "exception": false,
     "start_time": "2020-08-22T05:11:33.929474",
     "status": "completed"
    },
    "tags": []
   },
   "outputs": [
    {
     "data": {
      "image/png": "[encoded data removed]",
      "text/plain": [
       "<Figure size 360x360 with 2 Axes>"
      ]
     },
     "metadata": {},
     "output_type": "display_data"
    }
   ],
   "source": [
    "# The confusion matrix\n",
    "dtcla_cm = confusion_matrix(Y_test, Y_predict4)\n",
    "f, ax = plt.subplots(figsize=(5,5))\n",
    "sns.heatmap(dtcla_cm, annot=True, linewidth=0.7, linecolor='cyan', fmt='g', ax=ax, cmap=\"YlGnBu\")\n",
    "plt.title('Decision Tree Classification Confusion Matrix')\n",
    "plt.xlabel('Y predict')\n",
    "plt.ylabel('Y test')\n",
    "plt.show()"
   ]
  },
  {
   "cell_type": "code",
   "execution_count": 20,
   "metadata": {
    "execution": {
     "iopub.execute_input": "2020-08-22T05:11:34.259503Z",
     "iopub.status.busy": "2020-08-22T05:11:34.258504Z",
     "iopub.status.idle": "2020-08-22T05:11:34.261997Z",
     "shell.execute_reply": "2020-08-22T05:11:34.262595Z"
    },
    "papermill": {
     "duration": 0.036127,
     "end_time": "2020-08-22T05:11:34.262763",
     "exception": false,
     "start_time": "2020-08-22T05:11:34.226636",
     "status": "completed"
    },
    "tags": []
   },
   "outputs": [
    {
     "name": "stdout",
     "output_type": "stream",
     "text": [
      "1.0\n"
     ]
    }
   ],
   "source": [
    "# Test score\n",
    "score_dtcla = dtcla.score(X_test, Y_test)\n",
    "print(score_dtcla)"
   ]
  },
  {
   "cell_type": "markdown",
   "metadata": {
    "papermill": {
     "duration": 0.023451,
     "end_time": "2020-08-22T05:11:34.309975",
     "exception": false,
     "start_time": "2020-08-22T05:11:34.286524",
     "status": "completed"
    },
    "tags": []
   },
   "source": [
    "## 5. Random forest classification\n",
    "\n",
    "Based on the previous classification method, random forest is a supervised learning algorithm that creates a forest randomly. This forest, is a set of decision trees, most of the times trained with the bagging method. The essential idea of bagging is to average many noisy but approximately impartial models, and therefore reduce the variation. Each tree is constructed using the following algorithm:\n",
    "\n",
    "* Let $N$ be the number of test cases, $M$ is the number of variables in the classifier.\n",
    "* Let $m$ be the number of input variables to be used to determine the decision in a given node; $m<M$.\n",
    "* Choose a training set for this tree and use the rest of the test cases to estimate the error.\n",
    "* For each node of the tree, randomly choose $m$ variables on which to base the decision. Calculate the best partition of the training set from the $m$ variables.\n",
    "\n",
    "For prediction a new case is pushed down the tree. Then it is assigned the label of the terminal node where it ends. This process is iterated by all the trees in the assembly, and the label that gets the most incidents is reported as the prediction. We define the number of trees in the forest in 100. "
   ]
  },
  {
   "cell_type": "code",
   "execution_count": 21,
   "metadata": {
    "execution": {
     "iopub.execute_input": "2020-08-22T05:11:34.377380Z",
     "iopub.status.busy": "2020-08-22T05:11:34.366855Z",
     "iopub.status.idle": "2020-08-22T05:11:34.858973Z",
     "shell.execute_reply": "2020-08-22T05:11:34.858275Z"
    },
    "papermill": {
     "duration": 0.5254,
     "end_time": "2020-08-22T05:11:34.859120",
     "exception": false,
     "start_time": "2020-08-22T05:11:34.333720",
     "status": "completed"
    },
    "tags": []
   },
   "outputs": [],
   "source": [
    "from sklearn.ensemble import RandomForestClassifier\n",
    "\n",
    "# We define the model\n",
    "rfcla = RandomForestClassifier(n_estimators=100,random_state=9,n_jobs=-1)\n",
    "\n",
    "# We train model\n",
    "rfcla.fit(X_train, Y_train)\n",
    "\n",
    "# We predict target values\n",
    "Y_predict5 = rfcla.predict(X_test)"
   ]
  },
  {
   "cell_type": "code",
   "execution_count": 22,
   "metadata": {
    "execution": {
     "iopub.execute_input": "2020-08-22T05:11:34.931492Z",
     "iopub.status.busy": "2020-08-22T05:11:34.924430Z",
     "iopub.status.idle": "2020-08-22T05:11:35.167503Z",
     "shell.execute_reply": "2020-08-22T05:11:35.166698Z"
    },
    "papermill": {
     "duration": 0.283661,
     "end_time": "2020-08-22T05:11:35.167657",
     "exception": false,
     "start_time": "2020-08-22T05:11:34.883996",
     "status": "completed"
    },
    "tags": []
   },
   "outputs": [
    {
     "data": {
      "image/png": "[encoded data removed]",
      "text/plain": [
       "<Figure size 360x360 with 2 Axes>"
      ]
     },
     "metadata": {},
     "output_type": "display_data"
    }
   ],
   "source": [
    "# The confusion matrix\n",
    "rfcla_cm = confusion_matrix(Y_test, Y_predict5)\n",
    "f, ax = plt.subplots(figsize=(5,5))\n",
    "sns.heatmap(rfcla_cm, annot=True, linewidth=0.7, linecolor='cyan', fmt='g', ax=ax, cmap=\"YlGnBu\")\n",
    "plt.title('Random Forest Classification Confusion Matrix')\n",
    "plt.xlabel('Y predict')\n",
    "plt.ylabel('Y test')\n",
    "plt.show()"
   ]
  },
  {
   "cell_type": "code",
   "execution_count": 23,
   "metadata": {
    "execution": {
     "iopub.execute_input": "2020-08-22T05:11:35.224982Z",
     "iopub.status.busy": "2020-08-22T05:11:35.223886Z",
     "iopub.status.idle": "2020-08-22T05:11:35.332085Z",
     "shell.execute_reply": "2020-08-22T05:11:35.331343Z"
    },
    "papermill": {
     "duration": 0.140234,
     "end_time": "2020-08-22T05:11:35.332218",
     "exception": false,
     "start_time": "2020-08-22T05:11:35.191984",
     "status": "completed"
    },
    "tags": []
   },
   "outputs": [
    {
     "name": "stdout",
     "output_type": "stream",
     "text": [
      "1.0\n"
     ]
    }
   ],
   "source": [
    "# Test score\n",
    "score_rfcla = rfcla.score(X_test, Y_test)\n",
    "print(score_rfcla)"
   ]
  },
  {
   "cell_type": "markdown",
   "metadata": {
    "papermill": {
     "duration": 0.073822,
     "end_time": "2020-08-22T05:11:35.429847",
     "exception": false,
     "start_time": "2020-08-22T05:11:35.356025",
     "status": "completed"
    },
    "tags": []
   },
   "source": [
    "## 6. K-Nearest Neighbor classification\n",
    "\n",
    "K-Nearest neighbors is a technique that stores all available cases and **classifies new cases based on a similarity measure (e.g., distance functions)**. This technique is non-parametric since there are no assumptions for the distribution of underlying data and it is lazy since it does not need any training data point model generation. All the training data used in the test phase. **This makes the training faster and the test phase slower and more costlier. In this technique, the number of neighbors k is usually an odd number if the number of classes is 2**. For finding closest similar points,  find the distance between points using distance measures such as Euclidean distance, Hamming distance, Manhattan distance and Minkowski distance.\n",
    "\n"
   ]
  },
  {
   "cell_type": "code",
   "execution_count": 24,
   "metadata": {
    "execution": {
     "iopub.execute_input": "2020-08-22T05:11:35.490910Z",
     "iopub.status.busy": "2020-08-22T05:11:35.490002Z",
     "iopub.status.idle": "2020-08-22T05:11:35.597772Z",
     "shell.execute_reply": "2020-08-22T05:11:35.596876Z"
    },
    "papermill": {
     "duration": 0.144082,
     "end_time": "2020-08-22T05:11:35.597916",
     "exception": false,
     "start_time": "2020-08-22T05:11:35.453834",
     "status": "completed"
    },
    "tags": []
   },
   "outputs": [],
   "source": [
    "from sklearn.neighbors import KNeighborsClassifier\n",
    "\n",
    "# We define the model\n",
    "knncla = KNeighborsClassifier(n_neighbors=5,n_jobs=-1)\n",
    "\n",
    "# We train model\n",
    "knncla.fit(X_train, Y_train)\n",
    "\n",
    "# We predict target values\n",
    "Y_predict6 = knncla.predict(X_test)"
   ]
  },
  {
   "cell_type": "code",
   "execution_count": 25,
   "metadata": {
    "execution": {
     "iopub.execute_input": "2020-08-22T05:11:35.663832Z",
     "iopub.status.busy": "2020-08-22T05:11:35.654788Z",
     "iopub.status.idle": "2020-08-22T05:11:35.896511Z",
     "shell.execute_reply": "2020-08-22T05:11:35.895705Z"
    },
    "papermill": {
     "duration": 0.274316,
     "end_time": "2020-08-22T05:11:35.896673",
     "exception": false,
     "start_time": "2020-08-22T05:11:35.622357",
     "status": "completed"
    },
    "tags": []
   },
   "outputs": [
    {
     "data": {
      "image/png": "[encoded data removed]",
      "text/plain": [
       "<Figure size 360x360 with 2 Axes>"
      ]
     },
     "metadata": {},
     "output_type": "display_data"
    }
   ],
   "source": [
    "# The confusion matrix\n",
    "knncla_cm = confusion_matrix(Y_test, Y_predict6)\n",
    "f, ax = plt.subplots(figsize=(5,5))\n",
    "sns.heatmap(knncla_cm, annot=True, linewidth=0.7, linecolor='cyan', fmt='g', ax=ax, cmap=\"YlGnBu\")\n",
    "plt.title('KNN Classification Confusion Matrix')\n",
    "plt.xlabel('Y predict')\n",
    "plt.ylabel('Y test')\n",
    "plt.show()"
   ]
  },
  {
   "cell_type": "code",
   "execution_count": 26,
   "metadata": {
    "execution": {
     "iopub.execute_input": "2020-08-22T05:11:35.953808Z",
     "iopub.status.busy": "2020-08-22T05:11:35.952925Z",
     "iopub.status.idle": "2020-08-22T05:11:36.062205Z",
     "shell.execute_reply": "2020-08-22T05:11:36.061340Z"
    },
    "papermill": {
     "duration": 0.141235,
     "end_time": "2020-08-22T05:11:36.062373",
     "exception": false,
     "start_time": "2020-08-22T05:11:35.921138",
     "status": "completed"
    },
    "tags": []
   },
   "outputs": [
    {
     "name": "stdout",
     "output_type": "stream",
     "text": [
      "0.6666666666666666\n"
     ]
    }
   ],
   "source": [
    "# Test score\n",
    "score_knncla= knncla.score(X_test, Y_test)\n",
    "print(score_knncla)"
   ]
  },
  {
   "cell_type": "markdown",
   "metadata": {
    "papermill": {
     "duration": 0.024708,
     "end_time": "2020-08-22T05:11:36.112115",
     "exception": false,
     "start_time": "2020-08-22T05:11:36.087407",
     "status": "completed"
    },
    "tags": []
   },
   "source": [
    "****## Comparison of classification techniques"
   ]
  },
  {
   "cell_type": "markdown",
   "metadata": {
    "papermill": {
     "duration": 0.024764,
     "end_time": "2020-08-22T05:11:36.161455",
     "exception": false,
     "start_time": "2020-08-22T05:11:36.136691",
     "status": "completed"
    },
    "tags": []
   },
   "source": [
    "### Test score"
   ]
  },
  {
   "cell_type": "code",
   "execution_count": 27,
   "metadata": {
    "execution": {
     "iopub.execute_input": "2020-08-22T05:11:36.219082Z",
     "iopub.status.busy": "2020-08-22T05:11:36.218043Z",
     "iopub.status.idle": "2020-08-22T05:11:36.222563Z",
     "shell.execute_reply": "2020-08-22T05:11:36.221809Z"
    },
    "papermill": {
     "duration": 0.036818,
     "end_time": "2020-08-22T05:11:36.222692",
     "exception": false,
     "start_time": "2020-08-22T05:11:36.185874",
     "status": "completed"
    },
    "tags": []
   },
   "outputs": [
    {
     "name": "stdout",
     "output_type": "stream",
     "text": [
      "Logistic Regression Score       1.000000\n",
      "Support Vector Machine Score    1.000000\n",
      "Naive Bayes Score               1.000000\n",
      "Decision Tree Score             1.000000\n",
      "Random Forest Score             1.000000\n",
      "K-Nearest Neighbour Score       0.666667\n",
      "dtype: float64\n"
     ]
    }
   ],
   "source": [
    "Testscores = pd.Series([score_logreg, score_svmcla, score_nbcla, score_dtcla, score_rfcla, score_knncla], \n",
    "                        index=['Logistic Regression Score', 'Support Vector Machine Score', 'Naive Bayes Score', 'Decision Tree Score', 'Random Forest Score', 'K-Nearest Neighbour Score']) \n",
    "print(Testscores)"
   ]
  },
  {
   "cell_type": "markdown",
   "metadata": {
    "papermill": {
     "duration": 0.024004,
     "end_time": "2020-08-22T05:11:36.271164",
     "exception": false,
     "start_time": "2020-08-22T05:11:36.247160",
     "status": "completed"
    },
    "tags": []
   },
   "source": [
    "### The confusion matrix"
   ]
  },
  {
   "cell_type": "code",
   "execution_count": 28,
   "metadata": {
    "execution": {
     "iopub.execute_input": "2020-08-22T05:11:36.346085Z",
     "iopub.status.busy": "2020-08-22T05:11:36.336970Z",
     "iopub.status.idle": "2020-08-22T05:11:38.756384Z",
     "shell.execute_reply": "2020-08-22T05:11:38.757000Z"
    },
    "papermill": {
     "duration": 2.461687,
     "end_time": "2020-08-22T05:11:38.757188",
     "exception": false,
     "start_time": "2020-08-22T05:11:36.295501",
     "status": "completed"
    },
    "tags": []
   },
   "outputs": [
    {
     "data": {
      "image/png": "[encoded data removed]",
      "text/plain": [
       "<Figure size 1080x1080 with 12 Axes>"
      ]
     },
     "metadata": {},
     "output_type": "display_data"
    }
   ],
   "source": [
    "fig = plt.figure(figsize=(15,15))\n",
    "ax1 = fig.add_subplot(3, 3, 1) \n",
    "ax1.set_title('Logistic Regression Classification') \n",
    "ax2 = fig.add_subplot(3, 3, 2) \n",
    "ax2.set_title('SVM Classification')\n",
    "ax3 = fig.add_subplot(3, 3, 3)\n",
    "ax3.set_title('Naive Bayes Classification')\n",
    "ax4 = fig.add_subplot(3, 3, 4)\n",
    "ax4.set_title('Decision Tree Classification')\n",
    "ax5 = fig.add_subplot(3, 3, 5)\n",
    "ax5.set_title('Random Forest Classification')\n",
    "ax6 = fig.add_subplot(3, 3, 6)\n",
    "ax6.set_title('KNN Classification')\n",
    "sns.heatmap(data=logreg_cm, annot=True, linewidth=0.7, linecolor='cyan',cmap=\"YlGnBu\" ,fmt='g', ax=ax1)\n",
    "sns.heatmap(data=svmcla_cm, annot=True, linewidth=0.7, linecolor='cyan',cmap=\"YlGnBu\" ,fmt='g', ax=ax2)  \n",
    "sns.heatmap(data=nbcla_cm, annot=True, linewidth=0.7, linecolor='cyan',cmap=\"YlGnBu\" ,fmt='g', ax=ax3)\n",
    "sns.heatmap(data=dtcla_cm, annot=True, linewidth=0.7, linecolor='cyan',cmap=\"YlGnBu\" ,fmt='g', ax=ax4)\n",
    "sns.heatmap(data=rfcla_cm, annot=True, linewidth=0.7, linecolor='cyan',cmap=\"YlGnBu\" ,fmt='g', ax=ax5)\n",
    "sns.heatmap(data=knncla_cm, annot=True, linewidth=0.7, linecolor='cyan',cmap=\"YlGnBu\" ,fmt='g', ax=ax6)\n",
    "plt.show()"
   ]
  },
  {
   "cell_type": "markdown",
   "metadata": {
    "papermill": {
     "duration": 0.025032,
     "end_time": "2020-08-22T05:11:38.807938",
     "exception": false,
     "start_time": "2020-08-22T05:11:38.782906",
     "status": "completed"
    },
    "tags": []
   },
   "source": [
    "### ROC curve"
   ]
  },
  {
   "cell_type": "code",
   "execution_count": 29,
   "metadata": {
    "execution": {
     "iopub.execute_input": "2020-08-22T05:11:38.890710Z",
     "iopub.status.busy": "2020-08-22T05:11:38.872884Z",
     "iopub.status.idle": "2020-08-22T05:11:40.837825Z",
     "shell.execute_reply": "2020-08-22T05:11:40.837214Z"
    },
    "papermill": {
     "duration": 2.004563,
     "end_time": "2020-08-22T05:11:40.837965",
     "exception": false,
     "start_time": "2020-08-22T05:11:38.833402",
     "status": "completed"
    },
    "tags": []
   },
   "outputs": [
    {
     "data": {
      "image/png": "[encoded data removed]",
      "text/plain": [
       "<Figure size 432x288 with 6 Axes>"
      ]
     },
     "metadata": {},
     "output_type": "display_data"
    }
   ],
   "source": [
    "from sklearn.metrics import roc_curve\n",
    "\n",
    "# Logistic Regression Classification\n",
    "Y_predict1_proba = logreg.predict_proba(X_test)\n",
    "Y_predict1_proba = Y_predict1_proba[:, 1]\n",
    "fpr, tpr, thresholds = roc_curve(Y_test, Y_predict1_proba)\n",
    "plt.subplot(331)\n",
    "plt.plot([0,1],[0,1],'k--')\n",
    "plt.plot(fpr,tpr, label='ANN')\n",
    "plt.xlabel('fpr')\n",
    "plt.ylabel('tpr')\n",
    "plt.title('ROC Curve Logistic Regression')\n",
    "plt.grid(True)\n",
    "\n",
    "# SVM Classification\n",
    "Y_predict2_proba = svmcla.predict_proba(X_test)\n",
    "Y_predict2_proba = Y_predict2_proba[:, 1]\n",
    "fpr, tpr, thresholds = roc_curve(Y_test, Y_predict2_proba)\n",
    "plt.subplot(332)\n",
    "plt.plot([0,1],[0,1],'k--')\n",
    "plt.plot(fpr,tpr, label='ANN')\n",
    "plt.xlabel('fpr')\n",
    "plt.ylabel('tpr')\n",
    "plt.title('ROC Curve SVM')\n",
    "plt.grid(True)\n",
    "\n",
    "# Naive Bayes Classification\n",
    "Y_predict3_proba = nbcla.predict_proba(X_test)\n",
    "Y_predict3_proba = Y_predict3_proba[:, 1]\n",
    "fpr, tpr, thresholds = roc_curve(Y_test, Y_predict3_proba)\n",
    "plt.subplot(333)\n",
    "plt.plot([0,1],[0,1],'k--')\n",
    "plt.plot(fpr,tpr, label='ANN')\n",
    "plt.xlabel('fpr')\n",
    "plt.ylabel('tpr')\n",
    "plt.title('ROC Curve Naive Bayes')\n",
    "plt.grid(True)\n",
    "\n",
    "# Decision Tree Classification\n",
    "Y_predict4_proba = dtcla.predict_proba(X_test)\n",
    "Y_predict4_proba = Y_predict4_proba[:, 1]\n",
    "fpr, tpr, thresholds = roc_curve(Y_test, Y_predict4_proba)\n",
    "plt.subplot(334)\n",
    "plt.plot([0,1],[0,1],'k--')\n",
    "plt.plot(fpr,tpr, label='ANN')\n",
    "plt.xlabel('fpr')\n",
    "plt.ylabel('tpr')\n",
    "plt.title('ROC Curve Decision Tree')\n",
    "plt.grid(True)\n",
    "\n",
    "# Random Forest Classification\n",
    "Y_predict5_proba = rfcla.predict_proba(X_test)\n",
    "Y_predict5_proba = Y_predict5_proba[:, 1]\n",
    "fpr, tpr, thresholds = roc_curve(Y_test, Y_predict5_proba)\n",
    "plt.subplot(335)\n",
    "plt.plot([0,1],[0,1],'k--')\n",
    "plt.plot(fpr,tpr, label='ANN')\n",
    "plt.xlabel('fpr')\n",
    "plt.ylabel('tpr')\n",
    "plt.title('ROC Curve Random Forest')\n",
    "plt.grid(True)\n",
    "\n",
    "# KNN Classification\n",
    "Y_predict6_proba = knncla.predict_proba(X_test)\n",
    "Y_predict6_proba = Y_predict6_proba[:, 1]\n",
    "fpr, tpr, thresholds = roc_curve(Y_test, Y_predict6_proba)\n",
    "plt.subplot(336)\n",
    "plt.plot([0,1],[0,1],'k--')\n",
    "plt.plot(fpr,tpr, label='ANN')\n",
    "plt.xlabel('fpr')\n",
    "plt.ylabel('tpr')\n",
    "plt.title('ROC Curve KNN')\n",
    "plt.grid(True)\n",
    "plt.subplots_adjust(top=2, bottom=0.08, left=0.10, right=1.4, hspace=0.45, wspace=0.45)\n",
    "plt.show()"
   ]
  },
  {
   "cell_type": "markdown",
   "metadata": {
    "papermill": {
     "duration": 0.025384,
     "end_time": "2020-08-22T05:11:40.889239",
     "exception": false,
     "start_time": "2020-08-22T05:11:40.863855",
     "status": "completed"
    },
    "tags": []
   },
   "source": [
    "Features Selection"
   ]
  },
  {
   "cell_type": "markdown",
   "metadata": {
    "papermill": {
     "duration": 0.025628,
     "end_time": "2020-08-22T05:11:40.941261",
     "exception": false,
     "start_time": "2020-08-22T05:11:40.915633",
     "status": "completed"
    },
    "tags": []
   },
   "source": [
    "1. In here we drop Age from data1. We use features :Smokes, AreaQ, Alkhol"
   ]
  },
  {
   "cell_type": "code",
   "execution_count": 30,
   "metadata": {
    "execution": {
     "iopub.execute_input": "2020-08-22T05:11:41.004571Z",
     "iopub.status.busy": "2020-08-22T05:11:41.003665Z",
     "iopub.status.idle": "2020-08-22T05:11:41.027338Z",
     "shell.execute_reply": "2020-08-22T05:11:41.026720Z"
    },
    "papermill": {
     "duration": 0.060174,
     "end_time": "2020-08-22T05:11:41.027474",
     "exception": false,
     "start_time": "2020-08-22T05:11:40.967300",
     "status": "completed"
    },
    "tags": []
   },
   "outputs": [
    {
     "name": "stdout",
     "output_type": "stream",
     "text": [
      "['Smokes', 'AreaQ', 'Alkhol']\n",
      "3\n"
     ]
    }
   ],
   "source": [
    "Y1 = data1['Result']\n",
    "X1 = data1.drop(columns=['Age'])\n",
    "from sklearn.svm import LinearSVC\n",
    "from sklearn.feature_selection import SelectFromModel\n",
    "\n",
    "lsvc = LinearSVC(C=0.06, penalty=\"l1\", dual=False,random_state=10).fit(X1, Y1)\n",
    "model = SelectFromModel(lsvc, prefit=True)\n",
    "X_new = model.transform(X1)\n",
    "cc = list(X1.columns[model.get_support(indices=True)])\n",
    "print(cc)\n",
    "print(len(cc))"
   ]
  },
  {
   "cell_type": "code",
   "execution_count": 31,
   "metadata": {
    "execution": {
     "iopub.execute_input": "2020-08-22T05:11:41.126519Z",
     "iopub.status.busy": "2020-08-22T05:11:41.119215Z",
     "iopub.status.idle": "2020-08-22T05:11:41.439013Z",
     "shell.execute_reply": "2020-08-22T05:11:41.438317Z"
    },
    "papermill": {
     "duration": 0.385852,
     "end_time": "2020-08-22T05:11:41.439178",
     "exception": false,
     "start_time": "2020-08-22T05:11:41.053326",
     "status": "completed"
    },
    "tags": []
   },
   "outputs": [
    {
     "data": {
      "image/png": "[encoded data removed]",
      "text/plain": [
       "<Figure size 432x288 with 1 Axes>"
      ]
     },
     "metadata": {},
     "output_type": "display_data"
    }
   ],
   "source": [
    "# Principal component analysis\n",
    "from sklearn.decomposition import PCA\n",
    "\n",
    "pca = PCA().fit(X1)\n",
    "plt.figure()\n",
    "plt.plot(np.cumsum(pca.explained_variance_ratio_))\n",
    "plt.xlabel('Smokes AreaQ Alkhol Result')\n",
    "plt.ylabel('% Variance Explained')\n",
    "plt.title('PCA Analysis')\n",
    "plt.grid(True)\n",
    "plt.show()"
   ]
  },
  {
   "cell_type": "code",
   "execution_count": 32,
   "metadata": {
    "execution": {
     "iopub.execute_input": "2020-08-22T05:11:41.499085Z",
     "iopub.status.busy": "2020-08-22T05:11:41.498286Z",
     "iopub.status.idle": "2020-08-22T05:11:41.501264Z",
     "shell.execute_reply": "2020-08-22T05:11:41.501852Z"
    },
    "papermill": {
     "duration": 0.036889,
     "end_time": "2020-08-22T05:11:41.502021",
     "exception": false,
     "start_time": "2020-08-22T05:11:41.465132",
     "status": "completed"
    },
    "tags": []
   },
   "outputs": [
    {
     "name": "stdout",
     "output_type": "stream",
     "text": [
      "Series([], dtype: float64)\n"
     ]
    }
   ],
   "source": [
    "# Percentage of total variance explained\n",
    "variance = pd.Series(list(np.cumsum(pca.explained_variance_ratio_)), \n",
    "                        index= list(range(1,5))) \n",
    "print(variance[10:90])"
   ]
  },
  {
   "cell_type": "code",
   "execution_count": 33,
   "metadata": {
    "execution": {
     "iopub.execute_input": "2020-08-22T05:11:41.563973Z",
     "iopub.status.busy": "2020-08-22T05:11:41.563095Z",
     "iopub.status.idle": "2020-08-22T05:11:41.566956Z",
     "shell.execute_reply": "2020-08-22T05:11:41.566307Z"
    },
    "papermill": {
     "duration": 0.039306,
     "end_time": "2020-08-22T05:11:41.567101",
     "exception": false,
     "start_time": "2020-08-22T05:11:41.527795",
     "status": "completed"
    },
    "tags": []
   },
   "outputs": [],
   "source": [
    "X1 = data1[cc] \n",
    "from sklearn.model_selection import train_test_split\n",
    "X1_train, X1_test, Y1_train, Y1_test = train_test_split(X1, Y1, test_size=0.1, random_state=10)"
   ]
  },
  {
   "cell_type": "markdown",
   "metadata": {
    "papermill": {
     "duration": 0.02553,
     "end_time": "2020-08-22T05:11:41.618517",
     "exception": false,
     "start_time": "2020-08-22T05:11:41.592987",
     "status": "completed"
    },
    "tags": []
   },
   "source": [
    "The classification is performed using the techniques described above, where the only thing that changes is the training and testing data."
   ]
  },
  {
   "cell_type": "code",
   "execution_count": 34,
   "metadata": {
    "execution": {
     "iopub.execute_input": "2020-08-22T05:11:41.697817Z",
     "iopub.status.busy": "2020-08-22T05:11:41.693909Z",
     "iopub.status.idle": "2020-08-22T05:11:42.356275Z",
     "shell.execute_reply": "2020-08-22T05:11:42.355444Z"
    },
    "papermill": {
     "duration": 0.711188,
     "end_time": "2020-08-22T05:11:42.356412",
     "exception": false,
     "start_time": "2020-08-22T05:11:41.645224",
     "status": "completed"
    },
    "tags": []
   },
   "outputs": [],
   "source": [
    "# Logistic regression classification\n",
    "logreg.fit(X1_train, Y1_train)\n",
    "Y1_predict1 = logreg.predict(X1_test)\n",
    "logreg_cm = confusion_matrix(Y1_test, Y1_predict1)\n",
    "score1_logreg = logreg.score(X1_test, Y1_test)\n",
    "\n",
    "# SVM classification\n",
    "svmcla.fit(X1_train, Y1_train)\n",
    "Y1_predict2 = svmcla.predict(X1_test)\n",
    "svmcla_cm = confusion_matrix(Y1_test, Y1_predict2)\n",
    "score1_svmcla = svmcla.score(X1_test, Y1_test)\n",
    "\n",
    "# Random forest classification\n",
    "rfcla.fit(X1_train, Y1_train)\n",
    "Y1_predict5 = rfcla.predict(X1_test)\n",
    "rfcla_cm = confusion_matrix(Y1_test, Y1_predict5)\n",
    "score1_rfcla = rfcla.score(X1_test, Y1_test)"
   ]
  },
  {
   "cell_type": "markdown",
   "metadata": {
    "papermill": {
     "duration": 0.025721,
     "end_time": "2020-08-22T05:11:42.408475",
     "exception": false,
     "start_time": "2020-08-22T05:11:42.382754",
     "status": "completed"
    },
    "tags": []
   },
   "source": [
    "Comparison of classification techniques¶"
   ]
  },
  {
   "cell_type": "code",
   "execution_count": 35,
   "metadata": {
    "execution": {
     "iopub.execute_input": "2020-08-22T05:11:42.468776Z",
     "iopub.status.busy": "2020-08-22T05:11:42.467933Z",
     "iopub.status.idle": "2020-08-22T05:11:42.471606Z",
     "shell.execute_reply": "2020-08-22T05:11:42.472252Z"
    },
    "papermill": {
     "duration": 0.037962,
     "end_time": "2020-08-22T05:11:42.472424",
     "exception": false,
     "start_time": "2020-08-22T05:11:42.434462",
     "status": "completed"
    },
    "tags": []
   },
   "outputs": [
    {
     "name": "stdout",
     "output_type": "stream",
     "text": [
      "Logistic Regression Score       1.0\n",
      "Support Vector Machine Score    1.0\n",
      "Random Forest Score             1.0\n",
      "dtype: float64\n"
     ]
    }
   ],
   "source": [
    "Testscores1 = pd.Series([score1_logreg, score1_svmcla, score1_rfcla], index=['Logistic Regression Score', \n",
    "                        'Support Vector Machine Score', 'Random Forest Score']) \n",
    "print(Testscores1)"
   ]
  },
  {
   "cell_type": "code",
   "execution_count": 36,
   "metadata": {
    "execution": {
     "iopub.execute_input": "2020-08-22T05:11:42.544934Z",
     "iopub.status.busy": "2020-08-22T05:11:42.542422Z",
     "iopub.status.idle": "2020-08-22T05:11:43.378991Z",
     "shell.execute_reply": "2020-08-22T05:11:43.378381Z"
    },
    "papermill": {
     "duration": 0.880205,
     "end_time": "2020-08-22T05:11:43.379150",
     "exception": false,
     "start_time": "2020-08-22T05:11:42.498945",
     "status": "completed"
    },
    "tags": []
   },
   "outputs": [
    {
     "data": {
      "image/png": "[encoded data removed]",
      "text/plain": [
       "<Figure size 1080x1080 with 6 Axes>"
      ]
     },
     "metadata": {},
     "output_type": "display_data"
    }
   ],
   "source": [
    "fig = plt.figure(figsize=(15,15))\n",
    "ax1 = fig.add_subplot(3, 3, 1) \n",
    "ax1.set_title('Logistic Regression Classification') \n",
    "ax2 = fig.add_subplot(3, 3, 2) \n",
    "ax2.set_title('SVM Classification')\n",
    "ax5 = fig.add_subplot(3, 3,3)\n",
    "ax5.set_title('Random Forest Classification')\n",
    "\n",
    "sns.heatmap(data=logreg_cm, annot=True, linewidth=0.7, linecolor='cyan',cmap=\"YlGnBu\" ,fmt='g', ax=ax1)\n",
    "sns.heatmap(data=svmcla_cm, annot=True, linewidth=0.7, linecolor='cyan',cmap=\"YlGnBu\" ,fmt='g', ax=ax2)  \n",
    "sns.heatmap(data=rfcla_cm, annot=True, linewidth=0.7, linecolor='cyan',cmap=\"YlGnBu\" ,fmt='g', ax=ax5)\n",
    "plt.show()"
   ]
  },
  {
   "cell_type": "markdown",
   "metadata": {
    "papermill": {
     "duration": 0.026241,
     "end_time": "2020-08-22T05:11:43.431983",
     "exception": false,
     "start_time": "2020-08-22T05:11:43.405742",
     "status": "completed"
    },
    "tags": []
   },
   "source": [
    "![](http://)2. We drop AreaQ from data1. We use features :Age, Smokes, Alkhol"
   ]
  },
  {
   "cell_type": "code",
   "execution_count": 37,
   "metadata": {
    "execution": {
     "iopub.execute_input": "2020-08-22T05:11:43.499064Z",
     "iopub.status.busy": "2020-08-22T05:11:43.498271Z",
     "iopub.status.idle": "2020-08-22T05:11:43.505641Z",
     "shell.execute_reply": "2020-08-22T05:11:43.504974Z"
    },
    "papermill": {
     "duration": 0.047353,
     "end_time": "2020-08-22T05:11:43.505773",
     "exception": false,
     "start_time": "2020-08-22T05:11:43.458420",
     "status": "completed"
    },
    "tags": []
   },
   "outputs": [
    {
     "name": "stdout",
     "output_type": "stream",
     "text": [
      "['Age', 'Smokes', 'Alkhol', 'Result']\n",
      "4\n"
     ]
    }
   ],
   "source": [
    "Y1 = data1['Result']\n",
    "X1 = data1.drop(columns=['AreaQ'])\n",
    "from sklearn.svm import LinearSVC\n",
    "from sklearn.feature_selection import SelectFromModel\n",
    "\n",
    "lsvc = LinearSVC(C=0.06, penalty=\"l1\", dual=False,random_state=10).fit(X1, Y1)\n",
    "model = SelectFromModel(lsvc, prefit=True)\n",
    "X_new = model.transform(X1)\n",
    "cc = list(X1.columns[model.get_support(indices=True)])\n",
    "print(cc)\n",
    "print(len(cc))"
   ]
  },
  {
   "cell_type": "code",
   "execution_count": 38,
   "metadata": {
    "execution": {
     "iopub.execute_input": "2020-08-22T05:11:43.570796Z",
     "iopub.status.busy": "2020-08-22T05:11:43.569666Z",
     "iopub.status.idle": "2020-08-22T05:11:43.883082Z",
     "shell.execute_reply": "2020-08-22T05:11:43.882305Z"
    },
    "papermill": {
     "duration": 0.350851,
     "end_time": "2020-08-22T05:11:43.883214",
     "exception": false,
     "start_time": "2020-08-22T05:11:43.532363",
     "status": "completed"
    },
    "tags": []
   },
   "outputs": [
    {
     "data": {
      "image/png": "[encoded data removed]",
      "text/plain": [
       "<Figure size 432x288 with 1 Axes>"
      ]
     },
     "metadata": {},
     "output_type": "display_data"
    }
   ],
   "source": [
    "# Principal component analysis\n",
    "from sklearn.decomposition import PCA\n",
    "\n",
    "pca = PCA().fit(X1)\n",
    "plt.figure()\n",
    "plt.plot(np.cumsum(pca.explained_variance_ratio_))\n",
    "plt.xlabel('Age Smokes Alkhol Result')\n",
    "plt.ylabel('% Variance Explained')\n",
    "plt.title('PCA Analysis')\n",
    "plt.grid(True)\n",
    "plt.show()"
   ]
  },
  {
   "cell_type": "code",
   "execution_count": 39,
   "metadata": {
    "execution": {
     "iopub.execute_input": "2020-08-22T05:11:43.946260Z",
     "iopub.status.busy": "2020-08-22T05:11:43.945259Z",
     "iopub.status.idle": "2020-08-22T05:11:43.948688Z",
     "shell.execute_reply": "2020-08-22T05:11:43.949370Z"
    },
    "papermill": {
     "duration": 0.038573,
     "end_time": "2020-08-22T05:11:43.949532",
     "exception": false,
     "start_time": "2020-08-22T05:11:43.910959",
     "status": "completed"
    },
    "tags": []
   },
   "outputs": [
    {
     "name": "stdout",
     "output_type": "stream",
     "text": [
      "Series([], dtype: float64)\n"
     ]
    }
   ],
   "source": [
    "# Percentage of total variance explained\n",
    "variance = pd.Series(list(np.cumsum(pca.explained_variance_ratio_)), \n",
    "                        index= list(range(1,5))) \n",
    "print(variance[10:90])"
   ]
  },
  {
   "cell_type": "code",
   "execution_count": 40,
   "metadata": {
    "execution": {
     "iopub.execute_input": "2020-08-22T05:11:44.014322Z",
     "iopub.status.busy": "2020-08-22T05:11:44.013489Z",
     "iopub.status.idle": "2020-08-22T05:11:44.017398Z",
     "shell.execute_reply": "2020-08-22T05:11:44.016773Z"
    },
    "papermill": {
     "duration": 0.040448,
     "end_time": "2020-08-22T05:11:44.017558",
     "exception": false,
     "start_time": "2020-08-22T05:11:43.977110",
     "status": "completed"
    },
    "tags": []
   },
   "outputs": [],
   "source": [
    "X1 = data1[cc] \n",
    "from sklearn.model_selection import train_test_split\n",
    "X1_train, X1_test, Y1_train, Y1_test = train_test_split(X1, Y1, test_size=0.1, random_state=10)"
   ]
  },
  {
   "cell_type": "markdown",
   "metadata": {
    "papermill": {
     "duration": 0.026691,
     "end_time": "2020-08-22T05:11:44.071562",
     "exception": false,
     "start_time": "2020-08-22T05:11:44.044871",
     "status": "completed"
    },
    "tags": []
   },
   "source": [
    "The classification is performed using the techniques described above, where the only thing that changes is the training and testing data."
   ]
  },
  {
   "cell_type": "code",
   "execution_count": 41,
   "metadata": {
    "execution": {
     "iopub.execute_input": "2020-08-22T05:11:44.163203Z",
     "iopub.status.busy": "2020-08-22T05:11:44.157789Z",
     "iopub.status.idle": "2020-08-22T05:11:44.823273Z",
     "shell.execute_reply": "2020-08-22T05:11:44.822576Z"
    },
    "papermill": {
     "duration": 0.72453,
     "end_time": "2020-08-22T05:11:44.823406",
     "exception": false,
     "start_time": "2020-08-22T05:11:44.098876",
     "status": "completed"
    },
    "tags": []
   },
   "outputs": [],
   "source": [
    "# Logistic regression classification\n",
    "logreg.fit(X1_train, Y1_train)\n",
    "Y1_predict1 = logreg.predict(X1_test)\n",
    "logreg_cm = confusion_matrix(Y1_test, Y1_predict1)\n",
    "score1_logreg = logreg.score(X1_test, Y1_test)\n",
    "\n",
    "# SVM classification\n",
    "svmcla.fit(X1_train, Y1_train)\n",
    "Y1_predict2 = svmcla.predict(X1_test)\n",
    "svmcla_cm = confusion_matrix(Y1_test, Y1_predict2)\n",
    "score1_svmcla = svmcla.score(X1_test, Y1_test)\n",
    "\n",
    "# Random forest classification\n",
    "rfcla.fit(X1_train, Y1_train)\n",
    "Y1_predict5 = rfcla.predict(X1_test)\n",
    "rfcla_cm = confusion_matrix(Y1_test, Y1_predict5)\n",
    "score1_rfcla = rfcla.score(X1_test, Y1_test)"
   ]
  },
  {
   "cell_type": "code",
   "execution_count": 42,
   "metadata": {
    "execution": {
     "iopub.execute_input": "2020-08-22T05:11:44.887153Z",
     "iopub.status.busy": "2020-08-22T05:11:44.886156Z",
     "iopub.status.idle": "2020-08-22T05:11:44.889770Z",
     "shell.execute_reply": "2020-08-22T05:11:44.890351Z"
    },
    "papermill": {
     "duration": 0.038951,
     "end_time": "2020-08-22T05:11:44.890525",
     "exception": false,
     "start_time": "2020-08-22T05:11:44.851574",
     "status": "completed"
    },
    "tags": []
   },
   "outputs": [
    {
     "name": "stdout",
     "output_type": "stream",
     "text": [
      "Logistic Regression Score       1.0\n",
      "Support Vector Machine Score    1.0\n",
      "Random Forest Score             1.0\n",
      "dtype: float64\n"
     ]
    }
   ],
   "source": [
    "Testscores1 = pd.Series([score1_logreg, score1_svmcla, score1_rfcla], index=['Logistic Regression Score', \n",
    "                        'Support Vector Machine Score', 'Random Forest Score']) \n",
    "print(Testscores1)"
   ]
  },
  {
   "cell_type": "code",
   "execution_count": 43,
   "metadata": {
    "execution": {
     "iopub.execute_input": "2020-08-22T05:11:44.963864Z",
     "iopub.status.busy": "2020-08-22T05:11:44.957652Z",
     "iopub.status.idle": "2020-08-22T05:11:45.849893Z",
     "shell.execute_reply": "2020-08-22T05:11:45.849272Z"
    },
    "papermill": {
     "duration": 0.931222,
     "end_time": "2020-08-22T05:11:45.850034",
     "exception": false,
     "start_time": "2020-08-22T05:11:44.918812",
     "status": "completed"
    },
    "tags": []
   },
   "outputs": [
    {
     "data": {
      "image/png": "[encoded data removed]",
      "text/plain": [
       "<Figure size 1080x1080 with 6 Axes>"
      ]
     },
     "metadata": {},
     "output_type": "display_data"
    }
   ],
   "source": [
    "fig = plt.figure(figsize=(15,15))\n",
    "ax1 = fig.add_subplot(3, 3, 1) \n",
    "ax1.set_title('Logistic Regression Classification') \n",
    "ax2 = fig.add_subplot(3, 3, 2) \n",
    "ax2.set_title('SVM Classification')\n",
    "ax5 = fig.add_subplot(3, 3,3)\n",
    "ax5.set_title('Random Forest Classification')\n",
    "sns.heatmap(data=logreg_cm, annot=True, linewidth=0.7, linecolor='cyan',cmap=\"YlGnBu\" ,fmt='g', ax=ax1)\n",
    "sns.heatmap(data=svmcla_cm, annot=True, linewidth=0.7, linecolor='cyan',cmap=\"YlGnBu\" ,fmt='g', ax=ax2)  \n",
    "sns.heatmap(data=rfcla_cm, annot=True, linewidth=0.7, linecolor='cyan',cmap=\"YlGnBu\" ,fmt='g', ax=ax5)\n",
    "plt.show()"
   ]
  },
  {
   "cell_type": "markdown",
   "metadata": {
    "papermill": {
     "duration": 0.057363,
     "end_time": "2020-08-22T05:11:45.934867",
     "exception": false,
     "start_time": "2020-08-22T05:11:45.877504",
     "status": "completed"
    },
    "tags": []
   },
   "source": [
    "3. We drop Alkhol from data1. We use features :Age, Smokes, AreaQ "
   ]
  },
  {
   "cell_type": "code",
   "execution_count": 44,
   "metadata": {
    "execution": {
     "iopub.execute_input": "2020-08-22T05:11:46.003827Z",
     "iopub.status.busy": "2020-08-22T05:11:46.002992Z",
     "iopub.status.idle": "2020-08-22T05:11:46.011929Z",
     "shell.execute_reply": "2020-08-22T05:11:46.011296Z"
    },
    "papermill": {
     "duration": 0.049375,
     "end_time": "2020-08-22T05:11:46.012077",
     "exception": false,
     "start_time": "2020-08-22T05:11:45.962702",
     "status": "completed"
    },
    "tags": []
   },
   "outputs": [
    {
     "name": "stdout",
     "output_type": "stream",
     "text": [
      "['Age', 'Smokes', 'AreaQ']\n",
      "3\n"
     ]
    }
   ],
   "source": [
    "Y1 = data1['Result']\n",
    "X1 = data1.drop(columns=['Alkhol'])\n",
    "from sklearn.svm import LinearSVC\n",
    "from sklearn.feature_selection import SelectFromModel\n",
    "\n",
    "lsvc = LinearSVC(C=0.06, penalty=\"l1\", dual=False,random_state=10).fit(X1, Y1)\n",
    "model = SelectFromModel(lsvc, prefit=True)\n",
    "X_new = model.transform(X1)\n",
    "cc = list(X1.columns[model.get_support(indices=True)])\n",
    "print(cc)\n",
    "print(len(cc))"
   ]
  },
  {
   "cell_type": "code",
   "execution_count": 45,
   "metadata": {
    "execution": {
     "iopub.execute_input": "2020-08-22T05:11:46.084840Z",
     "iopub.status.busy": "2020-08-22T05:11:46.084029Z",
     "iopub.status.idle": "2020-08-22T05:11:46.388841Z",
     "shell.execute_reply": "2020-08-22T05:11:46.388053Z"
    },
    "papermill": {
     "duration": 0.349048,
     "end_time": "2020-08-22T05:11:46.388970",
     "exception": false,
     "start_time": "2020-08-22T05:11:46.039922",
     "status": "completed"
    },
    "tags": []
   },
   "outputs": [
    {
     "data": {
      "image/png": "[encoded data removed]",
      "text/plain": [
       "<Figure size 432x288 with 1 Axes>"
      ]
     },
     "metadata": {},
     "output_type": "display_data"
    }
   ],
   "source": [
    "# Principal component analysis\n",
    "from sklearn.decomposition import PCA\n",
    "\n",
    "pca = PCA().fit(X1)\n",
    "plt.figure()\n",
    "plt.plot(np.cumsum(pca.explained_variance_ratio_))\n",
    "plt.xlabel('Age Smokes AreaQ Result')\n",
    "plt.ylabel('% Variance Explained')\n",
    "plt.title('PCA Analysis')\n",
    "plt.grid(True)\n",
    "plt.show()"
   ]
  },
  {
   "cell_type": "code",
   "execution_count": 46,
   "metadata": {
    "execution": {
     "iopub.execute_input": "2020-08-22T05:11:46.452405Z",
     "iopub.status.busy": "2020-08-22T05:11:46.451495Z",
     "iopub.status.idle": "2020-08-22T05:11:46.455419Z",
     "shell.execute_reply": "2020-08-22T05:11:46.456212Z"
    },
    "papermill": {
     "duration": 0.039625,
     "end_time": "2020-08-22T05:11:46.456416",
     "exception": false,
     "start_time": "2020-08-22T05:11:46.416791",
     "status": "completed"
    },
    "tags": []
   },
   "outputs": [
    {
     "name": "stdout",
     "output_type": "stream",
     "text": [
      "Series([], dtype: float64)\n"
     ]
    }
   ],
   "source": [
    "# Percentage of total variance explained\n",
    "variance = pd.Series(list(np.cumsum(pca.explained_variance_ratio_)), \n",
    "                        index= list(range(1,5))) \n",
    "print(variance[10:90])"
   ]
  },
  {
   "cell_type": "code",
   "execution_count": 47,
   "metadata": {
    "execution": {
     "iopub.execute_input": "2020-08-22T05:11:46.522514Z",
     "iopub.status.busy": "2020-08-22T05:11:46.521422Z",
     "iopub.status.idle": "2020-08-22T05:11:46.525373Z",
     "shell.execute_reply": "2020-08-22T05:11:46.524621Z"
    },
    "papermill": {
     "duration": 0.040748,
     "end_time": "2020-08-22T05:11:46.525505",
     "exception": false,
     "start_time": "2020-08-22T05:11:46.484757",
     "status": "completed"
    },
    "tags": []
   },
   "outputs": [],
   "source": [
    "X1 = data1[cc] \n",
    "from sklearn.model_selection import train_test_split\n",
    "X1_train, X1_test, Y1_train, Y1_test = train_test_split(X1, Y1, test_size=0.1, random_state=10)"
   ]
  },
  {
   "cell_type": "markdown",
   "metadata": {
    "papermill": {
     "duration": 0.027365,
     "end_time": "2020-08-22T05:11:46.580769",
     "exception": false,
     "start_time": "2020-08-22T05:11:46.553404",
     "status": "completed"
    },
    "tags": []
   },
   "source": [
    "The classification is performed using the techniques described above, where the only thing that changes is the training and testing data."
   ]
  },
  {
   "cell_type": "code",
   "execution_count": 48,
   "metadata": {
    "execution": {
     "iopub.execute_input": "2020-08-22T05:11:46.669957Z",
     "iopub.status.busy": "2020-08-22T05:11:46.662181Z",
     "iopub.status.idle": "2020-08-22T05:11:47.328162Z",
     "shell.execute_reply": "2020-08-22T05:11:47.327472Z"
    },
    "papermill": {
     "duration": 0.719717,
     "end_time": "2020-08-22T05:11:47.328346",
     "exception": false,
     "start_time": "2020-08-22T05:11:46.608629",
     "status": "completed"
    },
    "tags": []
   },
   "outputs": [],
   "source": [
    "# Logistic regression classification\n",
    "logreg.fit(X1_train, Y1_train)\n",
    "Y1_predict1 = logreg.predict(X1_test)\n",
    "logreg_cm = confusion_matrix(Y1_test, Y1_predict1)\n",
    "score1_logreg = logreg.score(X1_test, Y1_test)\n",
    "\n",
    "# SVM classification\n",
    "svmcla.fit(X1_train, Y1_train)\n",
    "Y1_predict2 = svmcla.predict(X1_test)\n",
    "svmcla_cm = confusion_matrix(Y1_test, Y1_predict2)\n",
    "score1_svmcla = svmcla.score(X1_test, Y1_test)\n",
    "\n",
    "# Random forest classification\n",
    "rfcla.fit(X1_train, Y1_train)\n",
    "Y1_predict5 = rfcla.predict(X1_test)\n",
    "rfcla_cm = confusion_matrix(Y1_test, Y1_predict5)\n",
    "score1_rfcla = rfcla.score(X1_test, Y1_test)"
   ]
  },
  {
   "cell_type": "code",
   "execution_count": 49,
   "metadata": {
    "execution": {
     "iopub.execute_input": "2020-08-22T05:11:47.393817Z",
     "iopub.status.busy": "2020-08-22T05:11:47.392783Z",
     "iopub.status.idle": "2020-08-22T05:11:47.397813Z",
     "shell.execute_reply": "2020-08-22T05:11:47.397021Z"
    },
    "papermill": {
     "duration": 0.041493,
     "end_time": "2020-08-22T05:11:47.397955",
     "exception": false,
     "start_time": "2020-08-22T05:11:47.356462",
     "status": "completed"
    },
    "tags": []
   },
   "outputs": [
    {
     "name": "stdout",
     "output_type": "stream",
     "text": [
      "Logistic Regression Score       1.0\n",
      "Support Vector Machine Score    1.0\n",
      "Random Forest Score             1.0\n",
      "dtype: float64\n"
     ]
    }
   ],
   "source": [
    "Testscores1 = pd.Series([score1_logreg, score1_svmcla, score1_rfcla], index=['Logistic Regression Score', \n",
    "                        'Support Vector Machine Score', 'Random Forest Score']) \n",
    "print(Testscores1)"
   ]
  },
  {
   "cell_type": "code",
   "execution_count": 50,
   "metadata": {
    "execution": {
     "iopub.execute_input": "2020-08-22T05:11:47.466503Z",
     "iopub.status.busy": "2020-08-22T05:11:47.463445Z",
     "iopub.status.idle": "2020-08-22T05:11:48.303983Z",
     "shell.execute_reply": "2020-08-22T05:11:48.304554Z"
    },
    "papermill": {
     "duration": 0.878426,
     "end_time": "2020-08-22T05:11:48.304728",
     "exception": false,
     "start_time": "2020-08-22T05:11:47.426302",
     "status": "completed"
    },
    "tags": []
   },
   "outputs": [
    {
     "data": {
      "image/png": "[encoded data removed]",
      "text/plain": [
       "<Figure size 1080x1080 with 6 Axes>"
      ]
     },
     "metadata": {},
     "output_type": "display_data"
    }
   ],
   "source": [
    "fig = plt.figure(figsize=(15,15))\n",
    "ax1 = fig.add_subplot(3, 3, 1) \n",
    "ax1.set_title('Logistic Regression Classification') \n",
    "ax2 = fig.add_subplot(3, 3, 2) \n",
    "ax2.set_title('SVM Classification')\n",
    "ax5 = fig.add_subplot(3, 3,3)\n",
    "ax5.set_title('Random Forest Classification')\n",
    "sns.heatmap(data=logreg_cm, annot=True, linewidth=0.7, linecolor='cyan',cmap=\"YlGnBu\" ,fmt='g', ax=ax1)\n",
    "sns.heatmap(data=svmcla_cm, annot=True, linewidth=0.7, linecolor='cyan',cmap=\"YlGnBu\" ,fmt='g', ax=ax2)  \n",
    "sns.heatmap(data=rfcla_cm, annot=True, linewidth=0.7, linecolor='cyan',cmap=\"YlGnBu\" ,fmt='g', ax=ax5)\n",
    "plt.show()"
   ]
  },
  {
   "cell_type": "code",
   "execution_count": null,
   "metadata": {},
   "outputs": [],
   "source": []
  }
 ],
 "metadata": {
  "kernelspec": {
   "display_name": "Python 3",
   "language": "python",
   "name": "python3"
  },
  "language_info": {
   "codemirror_mode": {
    "name": "ipython",
    "version": 3
   },
   "file_extension": ".py",
   "mimetype": "text/x-python",
   "name": "python",
   "nbconvert_exporter": "python",
   "pygments_lexer": "ipython3",
   "version": "3.8.5"
  },
  "papermill": {
   "duration": 33.497219,
   "end_time": "2020-08-22T05:11:48.449073",
   "environment_variables": {},
   "exception": null,
   "input_path": "__notebook__.ipynb",
   "output_path": "__notebook__.ipynb",
   "parameters": {},
   "start_time": "2020-08-22T05:11:14.951854",
   "version": "2.1.0"
  }
 },
 "nbformat": 4,
 "nbformat_minor": 4
}
